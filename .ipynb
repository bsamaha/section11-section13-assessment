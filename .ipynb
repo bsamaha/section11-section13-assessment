{
 "cells": [
  {
   "cell_type": "markdown",
   "metadata": {},
   "source": [
    "# Objectives\n",
    "YW\n",
    "* scrape a website for relevant information, store that information to a dataframe and save that dataframe as a csv file\n",
    "* load in a dataframe and do the following\n",
    "    * calculate the zscores of a given column\n",
    "    * calculate the zscores of a point from a given column in the dataframe\n",
    "    * calculate and plot the pmf and cdf of another column"
   ]
  },
  {
   "cell_type": "markdown",
   "metadata": {},
   "source": [
    "# Part 1 - Webscraping\n",
    "* use the following url scrape the first page of results\n",
    "* for each item get the name of the item\n",
    "* store the names to a dataframe and save that dataframe to csv then display\n",
    "    * store the dataframe in the `data` folder in the repo\n",
    "    * name the file `part1.csv` and make sure that when you write it you set `index=False`\n",
    "* the head of the dataframe\n",
    "\n",
    "* it should match the following\n",
    "<img src=\"solutions/images/part1.png\"/>"
   ]
  },
  {
   "cell_type": "code",
   "execution_count": 1,
   "metadata": {},
   "outputs": [],
   "source": [
    "url = \"https://www.petsmart.com/dog/treats/dental-treats/#page_name=flyout&category=dog&cta=dentaltreat\""
   ]
  },
  {
   "cell_type": "code",
   "execution_count": 2,
   "metadata": {},
   "outputs": [],
   "source": [
    "# scrape the data\n",
    "import requests\n",
    "from bs4 import BeautifulSoup\n",
    "import pandas as pd\n",
    "import numpy as np\n",
    "from scipy import stats\n",
    "import matplotlib.pyplot as plt\n",
    "%matplotlib inline"
   ]
  },
  {
   "cell_type": "code",
   "execution_count": 3,
   "metadata": {
    "scrolled": true
   },
   "outputs": [
    {
     "name": "stdout",
     "output_type": "stream",
     "text": [
      "200\n"
     ]
    }
   ],
   "source": [
    "web = requests.get(url)\n",
    "print(web.status_code) #make sure we can access the website\n",
    "src = web.content #see the content of the website\n",
    "soup = BeautifulSoup(src) #turn the content into a soup object"
   ]
  },
  {
   "cell_type": "markdown",
   "metadata": {},
   "source": [
    "#### Ran this code and examined the website using the google developer tab (F12) and also right clicking inspect on the desired info I want to scrape. All product names are under the heading.\n"
   ]
  },
  {
   "cell_type": "code",
   "execution_count": 4,
   "metadata": {
    "scrolled": true
   },
   "outputs": [],
   "source": [
    "product_name_list = [] #establish a new empty list\n",
    "for product in soup.find_all('h3'): #iterate through the soup object to find all <h3> headings\n",
    "    product_name_list.append(product.get_text()) #return only the text from that <h3> heading\n",
    "                                                 #and put it in our empty list\n",
    "    "
   ]
  },
  {
   "cell_type": "code",
   "execution_count": 5,
   "metadata": {},
   "outputs": [],
   "source": [
    "df_raw = pd.DataFrame(product_name_list, columns=['productNames']) #raw data df.. need to be examined\n",
    "df = df_raw.iloc[:36] #everything good but needed to remove the last two items that were not products\n",
    "df.to_csv('part1.csv', index=False)# save the data as a csv file"
   ]
  },
  {
   "cell_type": "code",
   "execution_count": 6,
   "metadata": {},
   "outputs": [
    {
     "data": {
      "text/html": [
       "<div>\n",
       "<style scoped>\n",
       "    .dataframe tbody tr th:only-of-type {\n",
       "        vertical-align: middle;\n",
       "    }\n",
       "\n",
       "    .dataframe tbody tr th {\n",
       "        vertical-align: top;\n",
       "    }\n",
       "\n",
       "    .dataframe thead th {\n",
       "        text-align: right;\n",
       "    }\n",
       "</style>\n",
       "<table border=\"1\" class=\"dataframe\">\n",
       "  <thead>\n",
       "    <tr style=\"text-align: right;\">\n",
       "      <th></th>\n",
       "      <th>productNames</th>\n",
       "    </tr>\n",
       "  </thead>\n",
       "  <tbody>\n",
       "    <tr>\n",
       "      <th>0</th>\n",
       "      <td>Greenies Regular Dental Dog Treats</td>\n",
       "    </tr>\n",
       "    <tr>\n",
       "      <th>1</th>\n",
       "      <td>Greenies Petite Dental Dog Treats</td>\n",
       "    </tr>\n",
       "    <tr>\n",
       "      <th>2</th>\n",
       "      <td>Greenies Large Dental Dog Treats</td>\n",
       "    </tr>\n",
       "    <tr>\n",
       "      <th>3</th>\n",
       "      <td>Pedigree Dentastix Large Dog Treats</td>\n",
       "    </tr>\n",
       "    <tr>\n",
       "      <th>4</th>\n",
       "      <td>Greenies 6 Month+ Puppy Petite Dental Dog Treats</td>\n",
       "    </tr>\n",
       "  </tbody>\n",
       "</table>\n",
       "</div>"
      ],
      "text/plain": [
       "                                       productNames\n",
       "0                Greenies Regular Dental Dog Treats\n",
       "1                 Greenies Petite Dental Dog Treats\n",
       "2                  Greenies Large Dental Dog Treats\n",
       "3               Pedigree Dentastix Large Dog Treats\n",
       "4  Greenies 6 Month+ Puppy Petite Dental Dog Treats"
      ]
     },
     "execution_count": 6,
     "metadata": {},
     "output_type": "execute_result"
    }
   ],
   "source": [
    "# display df.head()\n",
    "df.head()"
   ]
  },
  {
   "cell_type": "markdown",
   "metadata": {},
   "source": [
    "# Part 2\n",
    "\n",
    "load in the csv file located in the `data` folder called `part2.csv`\n",
    "\n",
    "create a function that calculates the zscores of an array\n",
    "\n",
    "then calculate the zscores for each column in part2.csv and add them as columns\n",
    "\n",
    "See below for final result\n",
    "\n",
    "<img src=\"solutions/images/part2_df_preview.png\"/>"
   ]
  },
  {
   "cell_type": "code",
   "execution_count": 7,
   "metadata": {},
   "outputs": [
    {
     "data": {
      "text/html": [
       "<div>\n",
       "<style scoped>\n",
       "    .dataframe tbody tr th:only-of-type {\n",
       "        vertical-align: middle;\n",
       "    }\n",
       "\n",
       "    .dataframe tbody tr th {\n",
       "        vertical-align: top;\n",
       "    }\n",
       "\n",
       "    .dataframe thead th {\n",
       "        text-align: right;\n",
       "    }\n",
       "</style>\n",
       "<table border=\"1\" class=\"dataframe\">\n",
       "  <thead>\n",
       "    <tr style=\"text-align: right;\">\n",
       "      <th></th>\n",
       "      <th>salaries</th>\n",
       "      <th>NPS Score</th>\n",
       "      <th>eventOutcome</th>\n",
       "    </tr>\n",
       "  </thead>\n",
       "  <tbody>\n",
       "    <tr>\n",
       "      <th>0</th>\n",
       "      <td>44112.0</td>\n",
       "      <td>-7.0</td>\n",
       "      <td>1</td>\n",
       "    </tr>\n",
       "    <tr>\n",
       "      <th>1</th>\n",
       "      <td>46777.0</td>\n",
       "      <td>-12.0</td>\n",
       "      <td>2</td>\n",
       "    </tr>\n",
       "    <tr>\n",
       "      <th>2</th>\n",
       "      <td>50013.0</td>\n",
       "      <td>50.0</td>\n",
       "      <td>5</td>\n",
       "    </tr>\n",
       "    <tr>\n",
       "      <th>3</th>\n",
       "      <td>48983.0</td>\n",
       "      <td>-13.0</td>\n",
       "      <td>0</td>\n",
       "    </tr>\n",
       "    <tr>\n",
       "      <th>4</th>\n",
       "      <td>50751.0</td>\n",
       "      <td>-11.0</td>\n",
       "      <td>6</td>\n",
       "    </tr>\n",
       "  </tbody>\n",
       "</table>\n",
       "</div>"
      ],
      "text/plain": [
       "   salaries  NPS Score  eventOutcome\n",
       "0   44112.0       -7.0             1\n",
       "1   46777.0      -12.0             2\n",
       "2   50013.0       50.0             5\n",
       "3   48983.0      -13.0             0\n",
       "4   50751.0      -11.0             6"
      ]
     },
     "execution_count": 7,
     "metadata": {},
     "output_type": "execute_result"
    }
   ],
   "source": [
    "part2 = pd.read_csv('./data/part2.csv')\n",
    "part2.head()\n"
   ]
  },
  {
   "cell_type": "code",
   "execution_count": 8,
   "metadata": {},
   "outputs": [
    {
     "data": {
      "text/html": [
       "<div>\n",
       "<style scoped>\n",
       "    .dataframe tbody tr th:only-of-type {\n",
       "        vertical-align: middle;\n",
       "    }\n",
       "\n",
       "    .dataframe tbody tr th {\n",
       "        vertical-align: top;\n",
       "    }\n",
       "\n",
       "    .dataframe thead th {\n",
       "        text-align: right;\n",
       "    }\n",
       "</style>\n",
       "<table border=\"1\" class=\"dataframe\">\n",
       "  <thead>\n",
       "    <tr style=\"text-align: right;\">\n",
       "      <th></th>\n",
       "      <th>salaries</th>\n",
       "      <th>NPS Score</th>\n",
       "      <th>eventOutcome</th>\n",
       "      <th>salaries_zscores</th>\n",
       "      <th>NPS Score_zscores</th>\n",
       "      <th>eventOutcome_zscores</th>\n",
       "    </tr>\n",
       "  </thead>\n",
       "  <tbody>\n",
       "    <tr>\n",
       "      <th>0</th>\n",
       "      <td>44112.0</td>\n",
       "      <td>-7.0</td>\n",
       "      <td>1</td>\n",
       "      <td>-1.460301</td>\n",
       "      <td>-0.913613</td>\n",
       "      <td>-1.103276</td>\n",
       "    </tr>\n",
       "    <tr>\n",
       "      <th>1</th>\n",
       "      <td>46777.0</td>\n",
       "      <td>-12.0</td>\n",
       "      <td>2</td>\n",
       "      <td>-0.794061</td>\n",
       "      <td>-1.080776</td>\n",
       "      <td>-0.668162</td>\n",
       "    </tr>\n",
       "    <tr>\n",
       "      <th>2</th>\n",
       "      <td>50013.0</td>\n",
       "      <td>50.0</td>\n",
       "      <td>5</td>\n",
       "      <td>0.014927</td>\n",
       "      <td>0.992046</td>\n",
       "      <td>0.637182</td>\n",
       "    </tr>\n",
       "    <tr>\n",
       "      <th>3</th>\n",
       "      <td>48983.0</td>\n",
       "      <td>-13.0</td>\n",
       "      <td>0</td>\n",
       "      <td>-0.242569</td>\n",
       "      <td>-1.114209</td>\n",
       "      <td>-1.538391</td>\n",
       "    </tr>\n",
       "    <tr>\n",
       "      <th>4</th>\n",
       "      <td>50751.0</td>\n",
       "      <td>-11.0</td>\n",
       "      <td>6</td>\n",
       "      <td>0.199425</td>\n",
       "      <td>-1.047343</td>\n",
       "      <td>1.072296</td>\n",
       "    </tr>\n",
       "  </tbody>\n",
       "</table>\n",
       "</div>"
      ],
      "text/plain": [
       "   salaries  NPS Score  eventOutcome  salaries_zscores  NPS Score_zscores  \\\n",
       "0   44112.0       -7.0             1         -1.460301          -0.913613   \n",
       "1   46777.0      -12.0             2         -0.794061          -1.080776   \n",
       "2   50013.0       50.0             5          0.014927           0.992046   \n",
       "3   48983.0      -13.0             0         -0.242569          -1.114209   \n",
       "4   50751.0      -11.0             6          0.199425          -1.047343   \n",
       "\n",
       "   eventOutcome_zscores  \n",
       "0             -1.103276  \n",
       "1             -0.668162  \n",
       "2              0.637182  \n",
       "3             -1.538391  \n",
       "4              1.072296  "
      ]
     },
     "execution_count": 8,
     "metadata": {},
     "output_type": "execute_result"
    }
   ],
   "source": [
    "for column in part2: #iterate through the columns in the part 2 dataframe\n",
    "    part2[column + '_zscores'] = stats.zscore(part2[column])\n",
    "    #create a new column add _zscore to the column name and calculate the respective z_score\n",
    "part2.head()"
   ]
  },
  {
   "cell_type": "code",
   "execution_count": 9,
   "metadata": {},
   "outputs": [],
   "source": [
    "# create a function that calculates the zscores of an array\n",
    "def get_zscore(data):\n",
    "    data = np.array(data) #just in case we accidentally call a list\n",
    "    mu = data.mean() #could also use data.sum() / len(data)\n",
    "    std = data.std()\n",
    "    z_lst = []\n",
    "    for point in data:\n",
    "        z = (point - mu) / std\n",
    "        z_lst.append(z)\n",
    "    z_lst = np.array(z_lst)\n",
    "    return z_lst"
   ]
  },
  {
   "cell_type": "code",
   "execution_count": 10,
   "metadata": {},
   "outputs": [
    {
     "name": "stdout",
     "output_type": "stream",
     "text": [
      "My Function Works! :)\n"
     ]
    }
   ],
   "source": [
    "# calculate the zscore for each column and store them as a new column with the names used above\n",
    "part2['eventOutcome_test_myzfunc'] = get_zscore(part2['eventOutcome'])\n",
    "\n",
    "if part2['eventOutcome_zscores'].equals( part2['eventOutcome_test_myzfunc']):\n",
    "    print('My Function Works! :)')\n",
    "else:\n",
    "    print('My Function Doesnt Work :(')\n",
    "# .equals() prints true so my fucntion works"
   ]
  },
  {
   "cell_type": "markdown",
   "metadata": {},
   "source": [
    "# Part 3 \n",
    "plot 'salaries' and 'NPS Score' on a subplot (1 row 2 columns) \n",
    "then repeat this for the zscores\n",
    "\n",
    "see image below for reference\n",
    "<img src=\"solutions/images/part2-plots.png\"/>"
   ]
  },
  {
   "cell_type": "code",
   "execution_count": 11,
   "metadata": {},
   "outputs": [
    {
     "data": {
      "text/plain": [
       "[Text(0.5, 0, 'NPS Score')]"
      ]
     },
     "execution_count": 11,
     "metadata": {},
     "output_type": "execute_result"
    },
    {
     "data": {
      "image/png": "[encoded data removed]",
      "text/plain": [
       "<Figure size 1368x576 with 2 Axes>"
      ]
     },
     "metadata": {
      "needs_background": "light"
     },
     "output_type": "display_data"
    }
   ],
   "source": [
    "# plot for raw salaries and NPS Score data goes here\n",
    "fig, (ax1, ax2) = plt.subplots(1,2,figsize=(19,8))\n",
    "\n",
    "ax1.hist(part2['salaries'])\n",
    "ax1.set_title('Salaries')\n",
    "ax1.set(xlabel = 'Salaries')\n",
    "\n",
    "ax2.hist(part2['NPS Score'])\n",
    "ax2.set_title('NPS Score')\n",
    "ax2.set(xlabel = 'NPS Score')"
   ]
  },
  {
   "cell_type": "code",
   "execution_count": 12,
   "metadata": {},
   "outputs": [
    {
     "data": {
      "text/plain": [
       "[Text(0.5, 0, 'NPS Score Z-Scores')]"
      ]
     },
     "execution_count": 12,
     "metadata": {},
     "output_type": "execute_result"
    },
    {
     "data": {
      "image/png": "[encoded data removed]",
      "text/plain": [
       "<Figure size 1368x576 with 2 Axes>"
      ]
     },
     "metadata": {
      "needs_background": "light"
     },
     "output_type": "display_data"
    }
   ],
   "source": [
    "# plot for zscores for salaries and NPS Score data goes here\n",
    "fig, (ax1, ax2) = plt.subplots(1,2,figsize=(19,8))\n",
    "\n",
    "ax1.hist(part2['salaries_zscores'])\n",
    "ax1.set_title('Salaries')\n",
    "ax1.set(xlabel = 'Salaries Z-Scores')\n",
    "\n",
    "ax2.hist(part2['NPS Score_zscores'])\n",
    "ax2.set_title('NPS Score')\n",
    "ax2.set(xlabel = 'NPS Score Z-Scores')"
   ]
  },
  {
   "cell_type": "markdown",
   "metadata": {},
   "source": [
    "# Part 4 - PMF\n",
    "using the column 'eventOutcomes'\n",
    "\n",
    "create a PMF and plot the PMF as a bar chart\n",
    "\n",
    "See image below for referenc\n",
    "\n",
    "<img src=\"solutions/images/part4_pmf.png\"/>"
   ]
  },
  {
   "cell_type": "code",
   "execution_count": 13,
   "metadata": {},
   "outputs": [
    {
     "data": {
      "text/plain": [
       "Text(0, 0.5, 'Probability')"
      ]
     },
     "execution_count": 13,
     "metadata": {},
     "output_type": "execute_result"
    },
    {
     "data": {
      "image/png": "[encoded data removed]",
      "text/plain": [
       "<Figure size 720x432 with 1 Axes>"
      ]
     },
     "metadata": {
      "needs_background": "light"
     },
     "output_type": "display_data"
    }
   ],
   "source": [
    "from collections import Counter\n",
    "\n",
    "freq = {}\n",
    "for outcome in part2['eventOutcome']: #count the frequency of the event outcome\n",
    "    if (outcome in freq):\n",
    "        freq[outcome] += 1\n",
    "    else:\n",
    "        freq[outcome] = 0\n",
    "\n",
    "total_outcomes = sum(freq.values()) #count the total outcomes in the sample\n",
    "\n",
    "for k,v in freq.items():\n",
    "    freq[k] = v/total_outcomes #divide the counts by the total number of samples to get probability\n",
    "freq.values()\n",
    "\n",
    "\n",
    "\n",
    "plt.figure(figsize=(10,6))\n",
    "plt.bar(freq.keys(), freq.values())\n",
    "plt.title('Event Outcome PMF')\n",
    "plt.ylabel('Probability')\n",
    "\n",
    "\n"
   ]
  },
  {
   "cell_type": "markdown",
   "metadata": {},
   "source": [
    "# Part 5 - CDF\n",
    "plot the CDF of Event Outcomes as a scatter plot using the information above\n",
    "\n",
    "See image below for reference \n",
    "\n",
    "<img src=\"solutions/images/part5_cmf.png\"/>"
   ]
  },
  {
   "cell_type": "code",
   "execution_count": 14,
   "metadata": {},
   "outputs": [
    {
     "data": {
      "text/plain": [
       "Text(0.5, 0, 'Event Outcome')"
      ]
     },
     "execution_count": 14,
     "metadata": {},
     "output_type": "execute_result"
    },
    {
     "data": {
      "image/png": "[encoded data removed]",
      "text/plain": [
       "<Figure size 720x432 with 1 Axes>"
      ]
     },
     "metadata": {
      "needs_background": "light"
     },
     "output_type": "display_data"
    }
   ],
   "source": [
    "prob_array = np.array(list(freq.values()))\n",
    "\n",
    "cdf_array = np.cumsum(prob_array) #use cum sum to build array for cdf last value must equal 1\n",
    "\n",
    "cdf_dict = {}\n",
    "for k,v in freq.items(): # create a new dictionary with the event outcomes and their cdf values\n",
    "    cdf_dict[k] = cdf_array[k] \n",
    "\n",
    "plt.figure(figsize=(10,6))\n",
    "plt.scatter(cdf_dict.keys(),cdf_dict.values())\n",
    "plt.title('Cumulative Mass Function for Event Outcome')\n",
    "plt.ylabel('P(E<=N)')\n",
    "plt.xlabel('Event Outcome')"
   ]
  },
  {
   "cell_type": "markdown",
   "metadata": {},
   "source": [
    "# Bonus:\n",
    "* using np.where find salaries with zscores <= -2.0\n",
    "\n",
    "* calculate the skewness and kurtosis for the NPS Score column"
   ]
  },
  {
   "cell_type": "code",
   "execution_count": 15,
   "metadata": {},
   "outputs": [],
   "source": [
    "# find salaries with zscores <= 2.0 \n",
    "np.where(part2['salaries_zscores'] <= 2.0) #not sure what else I am supposed to do with this?\n",
    "\n",
    "salary_zscores_lessthanorequal_2 = part2['salaries_zscores'].iloc[np.where(part2['salaries_zscores'] <= 2.0)]"
   ]
  },
  {
   "cell_type": "code",
   "execution_count": 16,
   "metadata": {},
   "outputs": [
    {
     "data": {
      "text/html": [
       "<div>\n",
       "<style scoped>\n",
       "    .dataframe tbody tr th:only-of-type {\n",
       "        vertical-align: middle;\n",
       "    }\n",
       "\n",
       "    .dataframe tbody tr th {\n",
       "        vertical-align: top;\n",
       "    }\n",
       "\n",
       "    .dataframe thead th {\n",
       "        text-align: right;\n",
       "    }\n",
       "</style>\n",
       "<table border=\"1\" class=\"dataframe\">\n",
       "  <thead>\n",
       "    <tr style=\"text-align: right;\">\n",
       "      <th></th>\n",
       "      <th>salaries</th>\n",
       "      <th>NPS Score</th>\n",
       "      <th>eventOutcome</th>\n",
       "      <th>salaries_zscores</th>\n",
       "      <th>NPS Score_zscores</th>\n",
       "      <th>eventOutcome_zscores</th>\n",
       "      <th>eventOutcome_test_myzfunc</th>\n",
       "      <th>NPS_skewness</th>\n",
       "    </tr>\n",
       "  </thead>\n",
       "  <tbody>\n",
       "    <tr>\n",
       "      <th>0</th>\n",
       "      <td>44112.0</td>\n",
       "      <td>-7.0</td>\n",
       "      <td>1</td>\n",
       "      <td>-1.460301</td>\n",
       "      <td>-0.913613</td>\n",
       "      <td>-1.103276</td>\n",
       "      <td>-1.103276</td>\n",
       "      <td>-0.762354</td>\n",
       "    </tr>\n",
       "    <tr>\n",
       "      <th>1</th>\n",
       "      <td>46777.0</td>\n",
       "      <td>-12.0</td>\n",
       "      <td>2</td>\n",
       "      <td>-0.794061</td>\n",
       "      <td>-1.080776</td>\n",
       "      <td>-0.668162</td>\n",
       "      <td>-0.668162</td>\n",
       "      <td>-1.262051</td>\n",
       "    </tr>\n",
       "    <tr>\n",
       "      <th>2</th>\n",
       "      <td>50013.0</td>\n",
       "      <td>50.0</td>\n",
       "      <td>5</td>\n",
       "      <td>0.014927</td>\n",
       "      <td>0.992046</td>\n",
       "      <td>0.637182</td>\n",
       "      <td>0.637182</td>\n",
       "      <td>0.976034</td>\n",
       "    </tr>\n",
       "    <tr>\n",
       "      <th>3</th>\n",
       "      <td>48983.0</td>\n",
       "      <td>-13.0</td>\n",
       "      <td>0</td>\n",
       "      <td>-0.242569</td>\n",
       "      <td>-1.114209</td>\n",
       "      <td>-1.538391</td>\n",
       "      <td>-1.538391</td>\n",
       "      <td>-1.382831</td>\n",
       "    </tr>\n",
       "    <tr>\n",
       "      <th>4</th>\n",
       "      <td>50751.0</td>\n",
       "      <td>-11.0</td>\n",
       "      <td>6</td>\n",
       "      <td>0.199425</td>\n",
       "      <td>-1.047343</td>\n",
       "      <td>1.072296</td>\n",
       "      <td>1.072296</td>\n",
       "      <td>-1.148516</td>\n",
       "    </tr>\n",
       "  </tbody>\n",
       "</table>\n",
       "</div>"
      ],
      "text/plain": [
       "   salaries  NPS Score  eventOutcome  salaries_zscores  NPS Score_zscores  \\\n",
       "0   44112.0       -7.0             1         -1.460301          -0.913613   \n",
       "1   46777.0      -12.0             2         -0.794061          -1.080776   \n",
       "2   50013.0       50.0             5          0.014927           0.992046   \n",
       "3   48983.0      -13.0             0         -0.242569          -1.114209   \n",
       "4   50751.0      -11.0             6          0.199425          -1.047343   \n",
       "\n",
       "   eventOutcome_zscores  eventOutcome_test_myzfunc  NPS_skewness  \n",
       "0             -1.103276                  -1.103276     -0.762354  \n",
       "1             -0.668162                  -0.668162     -1.262051  \n",
       "2              0.637182                   0.637182      0.976034  \n",
       "3             -1.538391                  -1.538391     -1.382831  \n",
       "4              1.072296                   1.072296     -1.148516  "
      ]
     },
     "execution_count": 16,
     "metadata": {},
     "output_type": "execute_result"
    }
   ],
   "source": [
    "# calculate skewness and kurtosis of NPS Score column\n",
    "def get_skewness(data): #\n",
    "    x_bar = data.mean()\n",
    "    sigma = data.std()\n",
    "    skew_lst = []\n",
    "    for point in data:\n",
    "        skew = ((point - x_bar)**3) / (sigma**3)\n",
    "        skew_lst.append(skew)\n",
    "    skew_lst = np.array(skew_lst)\n",
    "    return skew_lst\n",
    "\n",
    "part2['NPS_skewness'] = get_skewness(part2['NPS Score']) #very similar to z score function except cubed\n",
    "part2.head()\n",
    "    "
   ]
  },
  {
   "cell_type": "code",
   "execution_count": 17,
   "metadata": {},
   "outputs": [
    {
     "data": {
      "text/html": [
       "<div>\n",
       "<style scoped>\n",
       "    .dataframe tbody tr th:only-of-type {\n",
       "        vertical-align: middle;\n",
       "    }\n",
       "\n",
       "    .dataframe tbody tr th {\n",
       "        vertical-align: top;\n",
       "    }\n",
       "\n",
       "    .dataframe thead th {\n",
       "        text-align: right;\n",
       "    }\n",
       "</style>\n",
       "<table border=\"1\" class=\"dataframe\">\n",
       "  <thead>\n",
       "    <tr style=\"text-align: right;\">\n",
       "      <th></th>\n",
       "      <th>salaries</th>\n",
       "      <th>NPS Score</th>\n",
       "      <th>eventOutcome</th>\n",
       "      <th>salaries_zscores</th>\n",
       "      <th>NPS Score_zscores</th>\n",
       "      <th>eventOutcome_zscores</th>\n",
       "      <th>eventOutcome_test_myzfunc</th>\n",
       "      <th>NPS_skewness</th>\n",
       "      <th>NPS_kurtosis</th>\n",
       "    </tr>\n",
       "  </thead>\n",
       "  <tbody>\n",
       "    <tr>\n",
       "      <th>0</th>\n",
       "      <td>44112.0</td>\n",
       "      <td>-7.0</td>\n",
       "      <td>1</td>\n",
       "      <td>-1.460301</td>\n",
       "      <td>-0.913613</td>\n",
       "      <td>-1.103276</td>\n",
       "      <td>-1.103276</td>\n",
       "      <td>-0.762354</td>\n",
       "      <td>0.696426</td>\n",
       "    </tr>\n",
       "    <tr>\n",
       "      <th>1</th>\n",
       "      <td>46777.0</td>\n",
       "      <td>-12.0</td>\n",
       "      <td>2</td>\n",
       "      <td>-0.794061</td>\n",
       "      <td>-1.080776</td>\n",
       "      <td>-0.668162</td>\n",
       "      <td>-0.668162</td>\n",
       "      <td>-1.262051</td>\n",
       "      <td>1.363858</td>\n",
       "    </tr>\n",
       "    <tr>\n",
       "      <th>2</th>\n",
       "      <td>50013.0</td>\n",
       "      <td>50.0</td>\n",
       "      <td>5</td>\n",
       "      <td>0.014927</td>\n",
       "      <td>0.992046</td>\n",
       "      <td>0.637182</td>\n",
       "      <td>0.637182</td>\n",
       "      <td>0.976034</td>\n",
       "      <td>0.968174</td>\n",
       "    </tr>\n",
       "    <tr>\n",
       "      <th>3</th>\n",
       "      <td>48983.0</td>\n",
       "      <td>-13.0</td>\n",
       "      <td>0</td>\n",
       "      <td>-0.242569</td>\n",
       "      <td>-1.114209</td>\n",
       "      <td>-1.538391</td>\n",
       "      <td>-1.538391</td>\n",
       "      <td>-1.382831</td>\n",
       "      <td>1.540609</td>\n",
       "    </tr>\n",
       "    <tr>\n",
       "      <th>4</th>\n",
       "      <td>50751.0</td>\n",
       "      <td>-11.0</td>\n",
       "      <td>6</td>\n",
       "      <td>0.199425</td>\n",
       "      <td>-1.047343</td>\n",
       "      <td>1.072296</td>\n",
       "      <td>1.072296</td>\n",
       "      <td>-1.148516</td>\n",
       "      <td>1.202770</td>\n",
       "    </tr>\n",
       "  </tbody>\n",
       "</table>\n",
       "</div>"
      ],
      "text/plain": [
       "   salaries  NPS Score  eventOutcome  salaries_zscores  NPS Score_zscores  \\\n",
       "0   44112.0       -7.0             1         -1.460301          -0.913613   \n",
       "1   46777.0      -12.0             2         -0.794061          -1.080776   \n",
       "2   50013.0       50.0             5          0.014927           0.992046   \n",
       "3   48983.0      -13.0             0         -0.242569          -1.114209   \n",
       "4   50751.0      -11.0             6          0.199425          -1.047343   \n",
       "\n",
       "   eventOutcome_zscores  eventOutcome_test_myzfunc  NPS_skewness  NPS_kurtosis  \n",
       "0             -1.103276                  -1.103276     -0.762354      0.696426  \n",
       "1             -0.668162                  -0.668162     -1.262051      1.363858  \n",
       "2              0.637182                   0.637182      0.976034      0.968174  \n",
       "3             -1.538391                  -1.538391     -1.382831      1.540609  \n",
       "4              1.072296                   1.072296     -1.148516      1.202770  "
      ]
     },
     "execution_count": 17,
     "metadata": {},
     "output_type": "execute_result"
    }
   ],
   "source": [
    "def get_kurtosis(data):\n",
    "    x_bar = data.mean()\n",
    "    sigma = data.std()\n",
    "    kurt_lst = []\n",
    "    for point in data:\n",
    "        kurt = ((point - x_bar)**4) / (sigma**4)\n",
    "        kurt_lst.append(kurt)\n",
    "    kurt_lst = np.array(kurt_lst)\n",
    "    return kurt_lst\n",
    "\n",
    "part2['NPS_kurtosis'] = get_kurtosis(part2['NPS Score']) #very similar to z score function except quartic\n",
    "part2.head()"
   ]
  },
  {
   "cell_type": "markdown",
   "metadata": {},
   "source": [
    "# run the cell below to convert your notebook to a README for assessment"
   ]
  },
  {
   "cell_type": "code",
   "execution_count": 18,
   "metadata": {},
   "outputs": [
    {
     "name": "stderr",
     "output_type": "stream",
     "text": [
      "[NbConvertApp] Converting notebook assessment.ipynb to markdown\n",
      "[NbConvertApp] Writing 7763 bytes to assessment.md\n",
      "'mv' is not recognized as an internal or external command,\n",
      "operable program or batch file.\n"
     ]
    }
   ],
   "source": [
    "!jupyter nbconvert --to markdown assessment.ipynb && mv assessment.md README.md"
   ]
  },
  {
   "cell_type": "code",
   "execution_count": null,
   "metadata": {},
   "outputs": [],
   "source": []
  }
 ],
 "metadata": {
  "kernelspec": {
   "display_name": "Python 3",
   "language": "python",
   "name": "python3"
  },
  "language_info": {
   "codemirror_mode": {
    "name": "ipython",
    "version": 3
   },
   "file_extension": ".py",
   "mimetype": "text/x-python",
   "name": "python",
   "nbconvert_exporter": "python",
   "pygments_lexer": "ipython3",
   "version": "3.7.6"
  }
 },
 "nbformat": 4,
 "nbformat_minor": 2
}
